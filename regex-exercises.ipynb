{
 "cells": [
  {
   "cell_type": "code",
   "execution_count": 20,
   "id": "d341621b",
   "metadata": {},
   "outputs": [],
   "source": [
    "import pandas\n",
    "import re"
   ]
  },
  {
   "cell_type": "markdown",
   "id": "593be57c",
   "metadata": {},
   "source": [
    "### Exercise 1\n",
    "Write a function named is_vowel. It should accept a string as input and use a regular expression to determine if the passed string is a vowel. While not explicity mentioned in the lesson, you can treat the result of re.search as a boolean value that indicates whether or not the regular expression matches the given string."
   ]
  },
  {
   "cell_type": "code",
   "execution_count": 21,
   "id": "86708a2f",
   "metadata": {},
   "outputs": [
    {
     "data": {
      "text/plain": [
       "False"
      ]
     },
     "execution_count": 21,
     "metadata": {},
     "output_type": "execute_result"
    }
   ],
   "source": [
    "#Define function to determine if a character is a vowel\n",
    "def is_vowel(string):\n",
    "    \n",
    "    if re.search(r'^[aeiou]{1}$', string):\n",
    "        \n",
    "        return True\n",
    "    \n",
    "    else:\n",
    "        \n",
    "        return False\n",
    "#Is 'a' a vowel?\n",
    "is_vowel('a')\n",
    "True\n",
    "#What about 'aa'?\n",
    "is_vowel('aa')\n",
    "False\n",
    "#Is 'g' a vowel?\n",
    "is_vowel('g')\n",
    "False"
   ]
  },
  {
   "cell_type": "markdown",
   "id": "2dd3c079",
   "metadata": {},
   "source": [
    "### Exercise 2\n",
    "Write a function named is_validusername that accepts a string as input. A valid username starts with a lowercase letter, and only consists of lowercase letters, numbers, or the character. It should also be no longer than 32 characters. The function should return either True or False depending on whether the passed string is a valid username."
   ]
  },
  {
   "cell_type": "code",
   "execution_count": 22,
   "id": "07eb143c",
   "metadata": {},
   "outputs": [
    {
     "data": {
      "text/plain": [
       "False"
      ]
     },
     "execution_count": 22,
     "metadata": {},
     "output_type": "execute_result"
    }
   ],
   "source": [
    "#Define a function to determine if a username is valid\n",
    "def is_valid_username(name):\n",
    "    \n",
    "    if re.search(r'^[a-z][a-z0-9\\_]{,31}$', name):\n",
    "        \n",
    "        return True\n",
    "    \n",
    "    else:\n",
    "        \n",
    "        return False\n",
    "#Is this username too long?\n",
    "is_valid_username('aaaaaaaaaaaaaaaaaaaaaaaaaaaaaaaaa')\n",
    "False\n",
    "#Is this name valid?\n",
    "is_valid_username('codeup')\n",
    "True\n",
    "#How about now?\n",
    "is_valid_username('Codeup')\n",
    "False\n",
    "#Are numbers accepted?\n",
    "is_valid_username('codeup123')\n",
    "True\n",
    "#What about at the beginning?\n",
    "is_valid_username('1codeup')\n",
    "False"
   ]
  },
  {
   "cell_type": "markdown",
   "id": "4d7f2f30",
   "metadata": {},
   "source": [
    "### Exercise 3\n",
    "Write a regular expression to capture phone numbers. It should match all of the following:"
   ]
  },
  {
   "cell_type": "markdown",
   "id": "213d29ea",
   "metadata": {},
   "source": [
    "(210) 867 5309\n",
    "+1 210.867.5309\n",
    "867-5309\n",
    "210-867-5309"
   ]
  },
  {
   "cell_type": "code",
   "execution_count": 23,
   "id": "3dc92ad6",
   "metadata": {},
   "outputs": [
    {
     "data": {
      "text/plain": [
       "<re.Match object; span=(0, 12), match='210-867-5309'>"
      ]
     },
     "execution_count": 23,
     "metadata": {},
     "output_type": "execute_result"
    }
   ],
   "source": [
    "#Regex statement to capture phone numbers\n",
    "phone_capture = r'^.\\d+([\\s\\.\\)-]+\\d+)+$'\n",
    "#Can it handle parantheses and spaces?\n",
    "re.search(phone_capture, '(210) 867 5309')\n",
    "#Can it handle the plus sign and periods?\n",
    "re.search(phone_capture, '+1 210.867.5309')\n",
    "#How about a shorter number?\n",
    "re.search(phone_capture, '867-5309')\n",
    "#What about a longer number of the same format?\n",
    "re.search(phone_capture, '210-867-5309')"
   ]
  },
  {
   "cell_type": "markdown",
   "id": "a9aadc5c",
   "metadata": {},
   "source": [
    "### Exercise 4\n",
    "Use regular expressions to convert the dates below to the standardized year-month-day format.\n",
    "\n",
    "02/04/19\n",
    "02/05/19\n",
    "02/06/19\n",
    "02/07/19\n",
    "02/08/19\n",
    "02/09/19\n",
    "02/10/19"
   ]
  },
  {
   "cell_type": "code",
   "execution_count": 24,
   "id": "23d30e95",
   "metadata": {},
   "outputs": [
    {
     "data": {
      "text/plain": [
       "'19/02/05'"
      ]
     },
     "execution_count": 24,
     "metadata": {},
     "output_type": "execute_result"
    }
   ],
   "source": [
    "#Regex to reformat the date\n",
    "re.sub(r'(\\d{2})/(\\d{2})/(\\d{2})', r'\\3/\\1/\\2', '02/04/19')\n",
    "'19/02/04'\n",
    "#Test on a different date\n",
    "re.sub(r'(\\d{2})/(\\d{2})/(\\d{2})', r'\\3/\\1/\\2', '02/05/19')\n",
    "'19/02/05'"
   ]
  },
  {
   "cell_type": "markdown",
   "id": "78c5b4b2",
   "metadata": {},
   "source": [
    "Exercise 5\n",
    "Write a regex to extract the various parts of these logfile lines:\n",
    "\n",
    "GET /api/v1/sales?page=86 [16/Apr/2019:193452+0000] HTTP/1.1 {200} 510348 \"python-requests/2.21.0\" 97.105.19.58\n",
    "\n",
    "POST /users_accounts/file-upload [16/Apr/2019:193452+0000] HTTP/1.1 {201} 42 \"User-Agent: Mozilla/5.0 (X11; Fedora; Fedora; Linux x86_64) AppleWebKit/537.36 (KHTML, like Gecko) Chrome/73.0.3683.86 Safari/537.36\" 97.105.19.58\n",
    "\n",
    "GET /api/v1/items?page=3 [16/Apr/2019:193453+0000] HTTP/1.1 {429} 3561 \"python-requests/2.21.0\" 97.105.19.58"
   ]
  },
  {
   "cell_type": "code",
   "execution_count": 25,
   "id": "4e50edd1",
   "metadata": {},
   "outputs": [
    {
     "data": {
      "text/plain": [
       "{'action': 'GET',\n",
       " 'url': '/api/v1/sales?page=86',\n",
       " 'date': '16/Apr/2019:193452+0000',\n",
       " 'request_type': 'HTTP/1.1',\n",
       " 'response': '200',\n",
       " 'file_size': '510348',\n",
       " 'user_agent': 'python-requests/2.21.0',\n",
       " 'ip_address': '97.105.19.58'}"
      ]
     },
     "execution_count": 25,
     "metadata": {},
     "output_type": "execute_result"
    }
   ],
   "source": [
    "#Save the first log to a variable\n",
    "log1 = 'GET /api/v1/sales?page=86 [16/Apr/2019:193452+0000] HTTP/1.1 {200} 510348 \"python-requests/2.21.0\" 97.105.19.58'\n",
    "#Develop a regex string to extract information from the log\n",
    "match1 = re.search(r'(?P<action>\\w+)\\s(?P<url>[a-z0-9\\/\\?\\=\\_\\-]+)\\s\\[(?P<date>[\\w\\/\\:\\+]+)\\]\\s(?P<request_type>[\\w\\/\\.]+)\\s\\{(?P<response>\\d+)\\}\\s(?P<file_size>\\d+)\\s\\\"(?P<user_agent>.+)\\\"\\s(?P<ip_address>[\\d\\.]+)', log1)\n",
    "\n",
    "match1.groupdict()"
   ]
  },
  {
   "cell_type": "code",
   "execution_count": 26,
   "id": "be1d99d7",
   "metadata": {},
   "outputs": [],
   "source": [
    "#Save the regex statement to a variable\n",
    "logfile_regex = r'(?P<action>\\w+)\\s(?P<url>[a-z0-9\\/\\?\\=\\_\\-]+)\\s\\[(?P<date>[\\w\\/\\:\\+]+)\\]\\s(?P<request_type>[\\w\\/\\.]+)\\s\\{(?P<response>\\d+)\\}\\s(?P<file_size>\\d+)\\s\\\"(?P<user_agent>.+)\\\"\\s(?P<ip_address>[\\d\\.]+)'\n",
    "#Save the other log files to variables\n",
    "log2 = 'POST /users_accounts/file-upload [16/Apr/2019:193452+0000] HTTP/1.1 {201} 42 \"User-Agent: Mozilla/5.0 (X11; Fedora; Fedora; Linux x86_64) AppleWebKit/537.36 (KHTML, like Gecko) Chrome/73.0.3683.86 Safari/537.36\" 97.105.19.58'\n",
    "log3 = 'GET /api/v1/items?page=3 [16/Apr/2019:193453+0000] HTTP/1.1 {429} 3561 \"python-requests/2.21.0\" 97.105.19.58'\n",
    "#Test the regex against the second log file\n",
    "match2 = re.search(logfile_regex, log2)"
   ]
  },
  {
   "cell_type": "code",
   "execution_count": 27,
   "id": "6cf67d96",
   "metadata": {},
   "outputs": [
    {
     "data": {
      "text/plain": [
       "{'action': 'POST',\n",
       " 'url': '/users_accounts/file-upload',\n",
       " 'date': '16/Apr/2019:193452+0000',\n",
       " 'request_type': 'HTTP/1.1',\n",
       " 'response': '201',\n",
       " 'file_size': '42',\n",
       " 'user_agent': 'User-Agent: Mozilla/5.0 (X11; Fedora; Fedora; Linux x86_64) AppleWebKit/537.36 (KHTML, like Gecko) Chrome/73.0.3683.86 Safari/537.36',\n",
       " 'ip_address': '97.105.19.58'}"
      ]
     },
     "execution_count": 27,
     "metadata": {},
     "output_type": "execute_result"
    }
   ],
   "source": [
    "match2.groupdict()"
   ]
  },
  {
   "cell_type": "code",
   "execution_count": 28,
   "id": "8d00ef93",
   "metadata": {},
   "outputs": [],
   "source": [
    "#Test the regex against the third log file\n",
    "match3 = re.search(logfile_regex, log3)"
   ]
  },
  {
   "cell_type": "code",
   "execution_count": 29,
   "id": "0e564913",
   "metadata": {},
   "outputs": [
    {
     "data": {
      "text/plain": [
       "{'action': 'GET',\n",
       " 'url': '/api/v1/items?page=3',\n",
       " 'date': '16/Apr/2019:193453+0000',\n",
       " 'request_type': 'HTTP/1.1',\n",
       " 'response': '429',\n",
       " 'file_size': '3561',\n",
       " 'user_agent': 'python-requests/2.21.0',\n",
       " 'ip_address': '97.105.19.58'}"
      ]
     },
     "execution_count": 29,
     "metadata": {},
     "output_type": "execute_result"
    }
   ],
   "source": [
    "match3.groupdict()"
   ]
  }
 ],
 "metadata": {
  "kernelspec": {
   "display_name": "Python 3 (ipykernel)",
   "language": "python",
   "name": "python3"
  },
  "language_info": {
   "codemirror_mode": {
    "name": "ipython",
    "version": 3
   },
   "file_extension": ".py",
   "mimetype": "text/x-python",
   "name": "python",
   "nbconvert_exporter": "python",
   "pygments_lexer": "ipython3",
   "version": "3.9.7"
  }
 },
 "nbformat": 4,
 "nbformat_minor": 5
}
